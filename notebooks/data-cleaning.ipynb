{
 "cells": [
  {
   "cell_type": "code",
   "execution_count": null,
   "id": "2228ffcc-0b65-4ed3-8c4f-8e08a5daa7d1",
   "metadata": {},
   "outputs": [],
   "source": [
    "import pandas as pd\n",
    "import re\n",
    "\n",
    "# Load the dataset\n",
    "INPUT_CSV = \"FILEPATH\" \n",
    "OUTPUT_CSV = \"FILEPATH/master_programs_data_cleaned.csv\"\n",
    "\n",
    "df = pd.read_csv(INPUT_CSV)\n",
    "\n",
    "# Function to extract the first integer from a string\n",
    "def extract_first_number(value):\n",
    "    match = re.search(r'\\d+', str(value))\n",
    "    return int(match.group()) if match else None\n",
    "\n",
    "# Clean and standardize relevant fields\n",
    "df[\"Total Credits\"] = df[\"Total Credits\"].apply(extract_first_number)\n",
    "df[\"Course Credits\"] = df[\"Course Credits\"].apply(extract_first_number)\n",
    "df[\"Duration\"] = df[\"Duration\"].apply(extract_first_number)\n",
    "\n",
    "# Replace \"Not Specified\" and empty strings with None (NaN)\n",
    "df.replace(\"Not Specified\", None, inplace=True)\n",
    "df.replace(r'^\\s*$', None, regex=True, inplace=True)\n",
    "\n",
    "# Remove duplicates based on program ID and course code\n",
    "df.drop_duplicates(subset=[\"Program ID\", \"Course Code\"], inplace=True)\n",
    "\n",
    "# Save to CSV\n",
    "df.to_csv(OUTPUT_CSV, index=False)\n",
    "print(f\"[OK] Cleaned data saved to '{OUTPUT_CSV}'\")"
   ]
  },
  {
   "cell_type": "code",
   "execution_count": null,
   "id": "14618bd7-f461-4780-ba0c-fe4c242e7473",
   "metadata": {},
   "outputs": [],
   "source": [
    "# Clean normalized dataset\n",
    "\n",
    "import pandas as pd\n",
    "import re\n",
    "\n",
    "# Load the dataset\n",
    "INPUT_CSV = \"FILEPATH\"\n",
    "OUTPUT_CSV = \"FILEPATH/master_programs_data_with_normalized_credits_cleaned.csv\"\n",
    "\n",
    "df = pd.read_csv(INPUT_CSV)\n",
    "\n",
    "# Function to extract the first integer from a string\n",
    "def extract_first_number(value):\n",
    "    match = re.search(r'\\d+', str(value))\n",
    "    return int(match.group()) if match else None\n",
    "\n",
    "# Clean and standardize relevant fields\n",
    "df[\"Total Credits\"] = df[\"Total Credits\"].apply(extract_first_number)\n",
    "df[\"Course Credits\"] = df[\"Course Credits\"].apply(extract_first_number)\n",
    "df[\"Duration\"] = df[\"Duration\"].apply(extract_first_number)\n",
    "\n",
    "# Replace \"Not Specified\" and empty strings with None (NaN)\n",
    "df.replace(\"Not Specified\", None, inplace=True)\n",
    "df.replace(r'^\\s*$', None, regex=True, inplace=True)\n",
    "\n",
    "# Remove duplicates based on program ID and course code\n",
    "df.drop_duplicates(subset=[\"Program ID\", \"Course Code\"], inplace=True)\n",
    "\n",
    "# Save the cleaned file\n",
    "df.to_csv(OUTPUT_CSV, index=False)\n",
    "print(f\"[OK] Cleaned data saved to '{OUTPUT_CSV}'\")"
   ]
  },
  {
   "cell_type": "code",
   "execution_count": null,
   "id": "826015c7-5925-4d9d-8862-d397356de97a",
   "metadata": {},
   "outputs": [],
   "source": [
    "import csv\n",
    "\n",
    "input_path = \"FILEPATH\"\n",
    "output_path = \"FILEPATH/course_category_matches_cleaned.csv\"\n",
    "\n",
    "with open(input_path, \"r\", encoding=\"utf-8\", errors=\"ignore\") as infile, \\\n",
    "     open(output_path, \"w\", encoding=\"utf-8\", newline=\"\") as outfile:\n",
    "\n",
    "    reader = csv.reader(infile, delimiter=\";\")\n",
    "    writer = csv.writer(outfile, delimiter=\";\")\n",
    "\n",
    "    for row in reader:\n",
    "        if len(row) >= 2:\n",
    "            row[1] = row[1].strip().strip('\"')\n",
    "        writer.writerow(row)\n",
    "\n",
    "print(f\"[OK] Cleaned file saved to: {output_path}\")"
   ]
  }
 ],
 "metadata": {
  "kernelspec": {
   "display_name": "Python 3 (ipykernel)",
   "language": "python",
   "name": "python3"
  },
  "language_info": {
   "codemirror_mode": {
    "name": "ipython",
    "version": 3
   },
   "file_extension": ".py",
   "mimetype": "text/x-python",
   "name": "python",
   "nbconvert_exporter": "python",
   "pygments_lexer": "ipython3",
   "version": "3.11.7"
  }
 },
 "nbformat": 4,
 "nbformat_minor": 5
}
