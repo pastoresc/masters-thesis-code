{
 "cells": [
  {
   "cell_type": "code",
   "execution_count": 2,
   "id": "8591f869-bfbf-488e-943a-a35f7c04702e",
   "metadata": {},
   "outputs": [
    {
     "name": "stdout",
     "output_type": "stream",
     "text": [
      "[OK] CSV with geolocation data saved as 'university_geolocation.csv'\n"
     ]
    }
   ],
   "source": [
    "import requests\n",
    "import pandas as pd\n",
    "import time\n",
    "\n",
    "API_KEY = \"c434afde1f6c4af6bfdfbbc3bc76eb63\"\n",
    "\n",
    "universities = [\n",
    "    \"University of Copenhagen\",\n",
    "    \"University of British Columbia\",\n",
    "    \"University of Helsinki\",\n",
    "    \"National University of Singapore\",\n",
    "    \"Universitat Politècnica de Catalunya\"\n",
    "]\n",
    "\n",
    "geodata = []\n",
    "\n",
    "for uni in universities:\n",
    "    url = f\"https://api.opencagedata.com/geocode/v1/json?q={uni}&key={API_KEY}\"\n",
    "    response = requests.get(url)\n",
    "    if response.status_code == 200:\n",
    "        results = response.json().get(\"results\")\n",
    "        if results:\n",
    "            best_match = results[0]\n",
    "            lat = best_match[\"geometry\"][\"lat\"]\n",
    "            lon = best_match[\"geometry\"][\"lng\"]\n",
    "            components = best_match.get(\"components\", {})\n",
    "            city = components.get(\"city\") or components.get(\"town\") or components.get(\"village\") or \"Not found\"\n",
    "            country = components.get(\"country\", \"Not found\")\n",
    "            geodata.append([uni, city, country, lat, lon])\n",
    "    time.sleep(1)\n",
    "\n",
    "df_geo = pd.DataFrame(geodata, columns=[\"universityName\", \"city\", \"country\", \"latitude\", \"longitude\"])\n",
    "df_geo.to_csv(\"university_geodata.csv\", index=False)\n",
    "print(\"[OK] CSV with geolocation data saved as 'university_geolocation.csv'\")"
   ]
  }
 ],
 "metadata": {
  "kernelspec": {
   "display_name": "Python 3 (ipykernel)",
   "language": "python",
   "name": "python3"
  },
  "language_info": {
   "codemirror_mode": {
    "name": "ipython",
    "version": 3
   },
   "file_extension": ".py",
   "mimetype": "text/x-python",
   "name": "python",
   "nbconvert_exporter": "python",
   "pygments_lexer": "ipython3",
   "version": "3.11.7"
  }
 },
 "nbformat": 4,
 "nbformat_minor": 5
}
